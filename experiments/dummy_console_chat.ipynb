{
 "cells": [
  {
   "cell_type": "code",
   "execution_count": null,
   "metadata": {},
   "outputs": [],
   "source": [
    "from typing import List, MutableSet\n",
    "class BurstMessage:\n",
    "    def __init__(self, uid: str, user: str, content: str) -> None:\n",
    "        self.uid = uid\n",
    "        self.user = user\n",
    "        self.content = content\n",
    "class BurstUserFeed:\n",
    "    def __init__(self, msgs: List[BurstMessage]) -> None:\n",
    "        self.messages = msgs\n",
    "    def publish_message(self, msg: BurstMessage):\n",
    "        self.msgs.push(msg)\n",
    "    def censor_message(self, msg_uid: str):\n",
    "        for msg in self.messages:\n",
    "            if (msg.uid==msg_uid):\n",
    "                self.messages.remove(msg)\n",
    "                return\n",
    "class Burst:\n",
    "    def __init__(self, feeds: List[BurstUserFeed]) -> None:\n",
    "        self.feeds = feeds\n",
    "        self.filters = ['cat', 'dog']\n",
    "    def ai_filter():\n",
    "        messages_to_filter: map[BurstUserFeed, str] = []\n",
    "        #run_ai(messages_to_filter self.feeds, self.filters)\n",
    "        for feed, message in messages_to_filter: feed.censor_message(message)"
   ]
  }
 ],
 "metadata": {
  "kernelspec": {
   "display_name": ".venv",
   "language": "python",
   "name": "python3"
  },
  "language_info": {
   "name": "python",
   "version": "3.10.11"
  }
 },
 "nbformat": 4,
 "nbformat_minor": 2
}
