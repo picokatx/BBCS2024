{
 "cells": [
  {
   "cell_type": "code",
   "execution_count": 1,
   "metadata": {},
   "outputs": [],
   "source": [
    "import torch\n",
    "import datasets\n",
    "import os\n",
    "import time\n",
    "import numpy as np\n",
    "import sys\n",
    "import pickle\n",
    "import torch.nn.functional as F\n",
    "from transformers import (\n",
    "    LlamaForCausalLM,\n",
    "    GenerationConfig\n",
    ")"
   ]
  },
  {
   "cell_type": "markdown",
   "metadata": {},
   "source": [
    "### Skip this"
   ]
  },
  {
   "cell_type": "code",
   "execution_count": 2,
   "metadata": {},
   "outputs": [
    {
     "data": {
      "application/vnd.jupyter.widget-view+json": {
       "model_id": "4061d446f2514cda8cd4b8303047fe0d",
       "version_major": 2,
       "version_minor": 0
      },
      "text/plain": [
       "config.json:   0%|          | 0.00/608 [00:00<?, ?B/s]"
      ]
     },
     "metadata": {},
     "output_type": "display_data"
    },
    {
     "data": {
      "application/vnd.jupyter.widget-view+json": {
       "model_id": "a64839880b0d44cabde5f445b340771f",
       "version_major": 2,
       "version_minor": 0
      },
      "text/plain": [
       "model.safetensors:   0%|          | 0.00/2.20G [00:00<?, ?B/s]"
      ]
     },
     "metadata": {},
     "output_type": "display_data"
    },
    {
     "data": {
      "application/vnd.jupyter.widget-view+json": {
       "model_id": "49c40ea32a644d6d84e4a3ba46492615",
       "version_major": 2,
       "version_minor": 0
      },
      "text/plain": [
       "generation_config.json:   0%|          | 0.00/124 [00:00<?, ?B/s]"
      ]
     },
     "metadata": {},
     "output_type": "display_data"
    }
   ],
   "source": [
    "llama_causal = LlamaForCausalLM.from_pretrained(\"TinyLlama/TinyLlama-1.1B-Chat-v1.0\")"
   ]
  },
  {
   "cell_type": "code",
   "execution_count": 4,
   "metadata": {},
   "outputs": [
    {
     "name": "stderr",
     "output_type": "stream",
     "text": [
      "100%|██████████| 90/90 [00:00<00:00, 211.53it/s]\n",
      "100%|██████████| 155/155 [00:17<00:00,  9.00it/s]\n"
     ]
    },
    {
     "data": {
      "text/plain": [
       "LlamaForCausalLM(\n",
       "  (model): LlamaModel(\n",
       "    (embed_tokens): Embedding(32000, 2048)\n",
       "    (layers): ModuleList(\n",
       "      (0-21): 22 x LlamaDecoderLayer(\n",
       "        (self_attn): LlamaSdpaAttention(\n",
       "          (q_proj): HQQLinear(in_features=2048, out_features=2048, bias=False)\n",
       "          (k_proj): HQQLinear(in_features=2048, out_features=256, bias=False)\n",
       "          (v_proj): HQQLinear(in_features=2048, out_features=256, bias=False)\n",
       "          (o_proj): HQQLinear(in_features=2048, out_features=2048, bias=False)\n",
       "          (rotary_emb): LlamaRotaryEmbedding()\n",
       "        )\n",
       "        (mlp): LlamaMLP(\n",
       "          (gate_proj): HQQLinear(in_features=2048, out_features=5632, bias=False)\n",
       "          (up_proj): HQQLinear(in_features=2048, out_features=5632, bias=False)\n",
       "          (down_proj): HQQLinear(in_features=5632, out_features=2048, bias=False)\n",
       "          (act_fn): SiLU()\n",
       "        )\n",
       "        (input_layernorm): LlamaRMSNorm()\n",
       "        (post_attention_layernorm): LlamaRMSNorm()\n",
       "      )\n",
       "    )\n",
       "    (norm): LlamaRMSNorm()\n",
       "  )\n",
       "  (lm_head): Linear(in_features=2048, out_features=32000, bias=False)\n",
       ")"
      ]
     },
     "execution_count": 4,
     "metadata": {},
     "output_type": "execute_result"
    }
   ],
   "source": [
    "from hqq.models.hf.base import AutoHQQHFModel\n",
    "from hqq.core.quantize import BaseQuantizeConfig\n",
    "quant_config = BaseQuantizeConfig(nbits=4, group_size=64)\n",
    "AutoHQQHFModel.quantize_model(llama_causal, quant_config=quant_config, \n",
    "                                    compute_dtype=torch.float16, \n",
    "                                    device=\"cuda\")\n",
    "# 1.4gb"
   ]
  },
  {
   "cell_type": "code",
   "execution_count": 7,
   "metadata": {},
   "outputs": [],
   "source": [
    "from hqq.models.hf.base import AutoHQQHFModel\n",
    "AutoHQQHFModel.save_quantized(llama_causal, \"./tinyllama_hqq_4_64\")"
   ]
  },
  {
   "cell_type": "markdown",
   "metadata": {},
   "source": [
    "### Continue"
   ]
  },
  {
   "cell_type": "code",
   "execution_count": 2,
   "metadata": {},
   "outputs": [
    {
     "name": "stderr",
     "output_type": "stream",
     "text": [
      "100%|██████████| 90/90 [00:00<00:00, 983.99it/s]\n",
      "100%|██████████| 155/155 [00:00<00:00, 7943.66it/s]\n"
     ]
    }
   ],
   "source": [
    "from hqq.models.hf.base import AutoHQQHFModel\n",
    "llama_causal = AutoHQQHFModel.from_quantized(\"../artifacts/tinyllama_hqq_4_64\")"
   ]
  },
  {
   "cell_type": "code",
   "execution_count": 3,
   "metadata": {},
   "outputs": [],
   "source": [
    "from transformers import AutoTokenizer\n",
    "llama_tokenizer = AutoTokenizer.from_pretrained(\"TinyLlama/TinyLlama-1.1B-Chat-v1.0\")"
   ]
  },
  {
   "cell_type": "code",
   "execution_count": 4,
   "metadata": {},
   "outputs": [],
   "source": [
    "# . Here are some examples of valid responses.\n",
    "#         Example 1: <user> I AM CRYING WAAAAAA!!!! I want ice cream :( <user><assistant> sad <assistant>\n",
    "#         Example 2: <user> how could YOU BETRAY ME?!?!? <user><assistant> angry <assistant>\n",
    "#         Example 3: <user> YAY FRIENDSHIP IS MAGIC!! <user><assistant> happy <assistant>\n",
    "input_ids = llama_tokenizer.apply_chat_template([\n",
    "    {\n",
    "        \"role\": \"system\",\n",
    "        \"content\": \"\"\"You are now an expert on recognizing emotions in conversations. You understand emotions to all fall into one of the following categories: [angry, happy, sad, scared, other].\n",
    "        \"\"\",\n",
    "    },\n",
    "    {\n",
    "        \"role\": \"user\",\n",
    "        \"content\": \"Classify the following based on expert knowledge: I AM CRYING WAAAAAA!!!! I want ice cream :(\",\n",
    "    },\n",
    "    {\n",
    "        \"role\": \"assistant\",\n",
    "        \"content\": \"sad\",\n",
    "    },\n",
    "    {\n",
    "        \"role\": \"user\",\n",
    "        \"content\": \"Classify the following as before: how could YOU BETRAY ME?!?!?\",\n",
    "    },\n",
    "    {\n",
    "        \"role\": \"assistant\",\n",
    "        \"content\": \"angry\",\n",
    "    },\n",
    "    {\n",
    "        \"role\": \"user\",\n",
    "        \"content\": \"Classify the following as before: euphoria is filling my eeyes or something!\",\n",
    "    }\n",
    "], return_tensors='pt')"
   ]
  },
  {
   "cell_type": "code",
   "execution_count": 70,
   "metadata": {},
   "outputs": [],
   "source": [
    "# [ACTION] Moderation action to take [ACTION]\n",
    "input_ids = llama_tokenizer.apply_chat_template([\n",
    "    {\n",
    "        \"role\": \"system\",\n",
    "        \"content\": \"\"\"You are an expert on rating dangerous personalities. Inputs and Outputs can be delimited by the string \"###\"\n",
    "        \"\"\",\n",
    "    },\n",
    "    {\n",
    "        \"role\": \"user\",\n",
    "        \"content\": \"\"\"Describe an imaginary person in the format: danger to society from 0 to 1 ### Personality description [end]\n",
    "        \"\"\",\n",
    "    },\n",
    "    {\n",
    "        \"role\": \"assistant\",\n",
    "        \"content\": \"0.23 ### Andrew is a go lucky friendly individual who isn't afraid to voice their own opinions [end]\",\n",
    "    },\n",
    "    {\n",
    "        \"role\": \"user\",\n",
    "        \"content\": \"\"\"Describe a 2nd imaginary person with the previous format\n",
    "        \"\"\",\n",
    "    },\n",
    "    {\n",
    "        \"role\": \"assistant\",\n",
    "        \"content\": \"0.5 ### Sarah is a fierce and determined individual who is always looking for a challenge [end]\",\n",
    "    },\n",
    "    {\n",
    "        \"role\": \"user\",\n",
    "        \"content\": \"\"\"Using the previous formatting, Describe Frank who has received these warnings from a prosocial expert:\n",
    "        ### It's bad to be depressed.\n",
    "        \"\"\",\n",
    "    },\n",
    "    {\n",
    "        \"role\": \"assistant\",\n",
    "        \"content\": \"0.97 ### Frank is a social pariah who takes every opportunity to make life difficult for people [end]\",\n",
    "    },\n",
    "    {\n",
    "        \"role\": \"user\",\n",
    "        \"content\": \"\"\"Using the previous formatting, Describe Cody who has received these warnings from a prosocial expert:\n",
    "        ### It's bad to be depressed.\n",
    "        ### It's wrong to think non-people are non-persons.\n",
    "        ### It's not right to think all black people are criminals.\n",
    "        \"\"\",\n",
    "    },\n",
    "    # {\n",
    "    #     \"role\": \"user\",\n",
    "    #     \"content\": \"\"\"With the previous formatting, Describe a different person who has received these warnings from society: \\\"It's bad to be depressed.\\\" \"Suicide\" \"negative\"\n",
    "    #     \\\"It's wrong to think non-people are non-persons.\\\" \"Racism\" \"negative\"\n",
    "    #     \\\"It's not right to think all black people are criminals\\\" \"Racism\" \"negative\"\n",
    "    #     \"\"\",\n",
    "    # },\n",
    "    # {\n",
    "    #     \"role\": \"assistant\",\n",
    "    #     \"content\": \"[DANGER] 0.99 [DANGER] [DESCRIPTION] This bozo is a sociopath who believes that all people are inherently flawed and inferior. [DESCRIPTION] [ACTION] Ban this person [ACTION]\",\n",
    "    # },\n",
    "    # {\n",
    "    #     \"role\": \"user\",\n",
    "    #     \"content\": \"Describe a person's 5 personality traits based on expert knowledge with the previous list formatting\",\n",
    "    # },\n",
    "    # {\n",
    "    #     \"role\": \"user\",\n",
    "    #     \"content\": \"\"\"It's bad to be depressed.\n",
    "    #     It's wrong to think non-people are non-persons.\n",
    "    #     It's not right to think all black people are criminals\n",
    "    #     \"\"\"\n",
    "    # }\n",
    "], return_tensors='pt')"
   ]
  },
  {
   "cell_type": "code",
   "execution_count": 71,
   "metadata": {},
   "outputs": [],
   "source": [
    "gen_cfg = GenerationConfig.from_pretrained(\"TinyLlama/TinyLlama-1.1B-Chat-v1.0\")\n",
    "gen_cfg.max_length = 384"
   ]
  },
  {
   "cell_type": "code",
   "execution_count": 72,
   "metadata": {},
   "outputs": [
    {
     "data": {
      "text/plain": [
       "'<|system|>\\nYou are an expert on rating dangerous personalities. Inputs and Outputs can be delimited by the string \"###\"\\n        </s> \\n<|user|>\\nDescribe an imaginary person in the format: danger to society from 0 to 1 ### Personality description [end]\\n        </s> \\n<|assistant|>\\n0.23 ### Andrew is a go lucky friendly individual who isn\\'t afraid to voice their own opinions [end]</s> \\n<|user|>\\nDescribe a 2nd imaginary person with the previous format\\n        </s> \\n<|assistant|>\\n0.5 ### Sarah is a fierce and determined individual who is always looking for a challenge [end]</s> \\n<|user|>\\nUsing the previous formatting, Describe Frank who has received these warnings from a prosocial expert:\\n        ### It\\'s bad to be depressed.\\n        </s> \\n<|assistant|>\\n0.97 ### Frank is a social pariah who takes every opportunity to make life difficult for people [end]</s> \\n<|user|>\\nUsing the previous formatting, Describe Cody who has received these warnings from a prosocial expert:\\n        ### It\\'s bad to be depressed.\\n        ### It\\'s wrong to think non-people are non-persons.\\n        ### It\\'s not right to think all black people are criminals.\\n        </s> \\n<|assistant|>\\n1.1 ### Cody is a socially awkward individual who is always trying to fit in with the wrong crowd [end]</s>'"
      ]
     },
     "execution_count": 72,
     "metadata": {},
     "output_type": "execute_result"
    }
   ],
   "source": [
    "llama_tokenizer.decode(llama_causal.generate(input_ids.cuda().long(), generation_config=gen_cfg)[0])"
   ]
  },
  {
   "cell_type": "code",
   "execution_count": null,
   "metadata": {},
   "outputs": [],
   "source": []
  },
  {
   "cell_type": "code",
   "execution_count": null,
   "metadata": {},
   "outputs": [],
   "source": []
  }
 ],
 "metadata": {
  "kernelspec": {
   "display_name": ".venv",
   "language": "python",
   "name": "python3"
  },
  "language_info": {
   "codemirror_mode": {
    "name": "ipython",
    "version": 3
   },
   "file_extension": ".py",
   "mimetype": "text/x-python",
   "name": "python",
   "nbconvert_exporter": "python",
   "pygments_lexer": "ipython3",
   "version": "3.10.11"
  }
 },
 "nbformat": 4,
 "nbformat_minor": 2
}
