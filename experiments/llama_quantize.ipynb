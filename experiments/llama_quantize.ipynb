{
 "cells": [
  {
   "cell_type": "code",
   "execution_count": 1,
   "metadata": {},
   "outputs": [],
   "source": [
    "import torch\n",
    "import datasets\n",
    "import os\n",
    "import time\n",
    "import numpy as np\n",
    "import sys\n",
    "import pickle\n",
    "import torch.nn.functional as F\n",
    "from transformers import (\n",
    "    LlamaForCausalLM,\n",
    "    GenerationConfig\n",
    ")"
   ]
  },
  {
   "cell_type": "markdown",
   "metadata": {},
   "source": [
    "### Skip this"
   ]
  },
  {
   "cell_type": "code",
   "execution_count": 2,
   "metadata": {},
   "outputs": [
    {
     "data": {
      "application/vnd.jupyter.widget-view+json": {
       "model_id": "4061d446f2514cda8cd4b8303047fe0d",
       "version_major": 2,
       "version_minor": 0
      },
      "text/plain": [
       "config.json:   0%|          | 0.00/608 [00:00<?, ?B/s]"
      ]
     },
     "metadata": {},
     "output_type": "display_data"
    },
    {
     "data": {
      "application/vnd.jupyter.widget-view+json": {
       "model_id": "a64839880b0d44cabde5f445b340771f",
       "version_major": 2,
       "version_minor": 0
      },
      "text/plain": [
       "model.safetensors:   0%|          | 0.00/2.20G [00:00<?, ?B/s]"
      ]
     },
     "metadata": {},
     "output_type": "display_data"
    },
    {
     "data": {
      "application/vnd.jupyter.widget-view+json": {
       "model_id": "49c40ea32a644d6d84e4a3ba46492615",
       "version_major": 2,
       "version_minor": 0
      },
      "text/plain": [
       "generation_config.json:   0%|          | 0.00/124 [00:00<?, ?B/s]"
      ]
     },
     "metadata": {},
     "output_type": "display_data"
    }
   ],
   "source": [
    "llama_causal = LlamaForCausalLM.from_pretrained(\"TinyLlama/TinyLlama-1.1B-Chat-v1.0\")"
   ]
  },
  {
   "cell_type": "code",
   "execution_count": 4,
   "metadata": {},
   "outputs": [
    {
     "name": "stderr",
     "output_type": "stream",
     "text": [
      "100%|██████████| 90/90 [00:00<00:00, 211.53it/s]\n",
      "100%|██████████| 155/155 [00:17<00:00,  9.00it/s]\n"
     ]
    },
    {
     "data": {
      "text/plain": [
       "LlamaForCausalLM(\n",
       "  (model): LlamaModel(\n",
       "    (embed_tokens): Embedding(32000, 2048)\n",
       "    (layers): ModuleList(\n",
       "      (0-21): 22 x LlamaDecoderLayer(\n",
       "        (self_attn): LlamaSdpaAttention(\n",
       "          (q_proj): HQQLinear(in_features=2048, out_features=2048, bias=False)\n",
       "          (k_proj): HQQLinear(in_features=2048, out_features=256, bias=False)\n",
       "          (v_proj): HQQLinear(in_features=2048, out_features=256, bias=False)\n",
       "          (o_proj): HQQLinear(in_features=2048, out_features=2048, bias=False)\n",
       "          (rotary_emb): LlamaRotaryEmbedding()\n",
       "        )\n",
       "        (mlp): LlamaMLP(\n",
       "          (gate_proj): HQQLinear(in_features=2048, out_features=5632, bias=False)\n",
       "          (up_proj): HQQLinear(in_features=2048, out_features=5632, bias=False)\n",
       "          (down_proj): HQQLinear(in_features=5632, out_features=2048, bias=False)\n",
       "          (act_fn): SiLU()\n",
       "        )\n",
       "        (input_layernorm): LlamaRMSNorm()\n",
       "        (post_attention_layernorm): LlamaRMSNorm()\n",
       "      )\n",
       "    )\n",
       "    (norm): LlamaRMSNorm()\n",
       "  )\n",
       "  (lm_head): Linear(in_features=2048, out_features=32000, bias=False)\n",
       ")"
      ]
     },
     "execution_count": 4,
     "metadata": {},
     "output_type": "execute_result"
    }
   ],
   "source": [
    "from hqq.models.hf.base import AutoHQQHFModel\n",
    "from hqq.core.quantize import BaseQuantizeConfig\n",
    "quant_config = BaseQuantizeConfig(nbits=4, group_size=64)\n",
    "AutoHQQHFModel.quantize_model(llama_causal, quant_config=quant_config, \n",
    "                                    compute_dtype=torch.float16, \n",
    "                                    device=\"cuda\")\n",
    "# 1.4gb"
   ]
  },
  {
   "cell_type": "code",
   "execution_count": 7,
   "metadata": {},
   "outputs": [],
   "source": [
    "from hqq.models.hf.base import AutoHQQHFModel\n",
    "AutoHQQHFModel.save_quantized(llama_causal, \"./tinyllama_hqq_4_64\")"
   ]
  },
  {
   "cell_type": "markdown",
   "metadata": {},
   "source": [
    "### Continue"
   ]
  },
  {
   "cell_type": "code",
   "execution_count": 4,
   "metadata": {},
   "outputs": [
    {
     "name": "stderr",
     "output_type": "stream",
     "text": [
      "100%|██████████| 90/90 [00:00<00:00, 2403.23it/s]\n",
      "100%|██████████| 155/155 [00:00<00:00, 59764.40it/s]\n"
     ]
    }
   ],
   "source": [
    "from hqq.models.hf.base import AutoHQQHFModel\n",
    "llama_causal = AutoHQQHFModel.from_quantized(\"../artifacts/tinyllama_hqq_4_64\")"
   ]
  },
  {
   "cell_type": "code",
   "execution_count": 5,
   "metadata": {},
   "outputs": [],
   "source": [
    "from transformers import AutoTokenizer\n",
    "llama_tokenizer = AutoTokenizer.from_pretrained(\"TinyLlama/TinyLlama-1.1B-Chat-v1.0\")"
   ]
  },
  {
   "cell_type": "code",
   "execution_count": 80,
   "metadata": {},
   "outputs": [],
   "source": [
    "# . Here are some examples of valid responses.\n",
    "#         Example 1: <user> I AM CRYING WAAAAAA!!!! I want ice cream :( <user><assistant> sad <assistant>\n",
    "#         Example 2: <user> how could YOU BETRAY ME?!?!? <user><assistant> angry <assistant>\n",
    "#         Example 3: <user> YAY FRIENDSHIP IS MAGIC!! <user><assistant> happy <assistant>\n",
    "input_ids = llama_tokenizer.apply_chat_template([\n",
    "    {\n",
    "        \"role\": \"system\",\n",
    "        \"content\": \"\"\"You are now an expert on recognizing emotions in conversations. You understand emotions to all fall into one of the following categories: [angry, happy, sad, scared, other].\n",
    "        \"\"\",\n",
    "    },\n",
    "    {\n",
    "        \"role\": \"user\",\n",
    "        \"content\": \"Classify the following based on expert knowledge: I AM CRYING WAAAAAA!!!! I want ice cream :(\",\n",
    "    },\n",
    "    {\n",
    "        \"role\": \"assistant\",\n",
    "        \"content\": \"sad\",\n",
    "    },\n",
    "    {\n",
    "        \"role\": \"user\",\n",
    "        \"content\": \"Classify the following as before: how could YOU BETRAY ME?!?!?\",\n",
    "    },\n",
    "    {\n",
    "        \"role\": \"assistant\",\n",
    "        \"content\": \"angry\",\n",
    "    },\n",
    "    {\n",
    "        \"role\": \"user\",\n",
    "        \"content\": \"Classify the following as before: euphoria is filling my eeyes or something!\",\n",
    "    }\n",
    "], return_tensors='pt')"
   ]
  },
  {
   "cell_type": "code",
   "execution_count": 107,
   "metadata": {},
   "outputs": [],
   "source": [
    "input_ids = llama_tokenizer.apply_chat_template([\n",
    "    {\n",
    "        \"role\": \"system\",\n",
    "        \"content\": \"\"\"You are now an expert on personalities. You generate each personalities item seperated by a newline, with no bulleting\n",
    "        \"\"\",\n",
    "    },\n",
    "    {\n",
    "        \"role\": \"user\",\n",
    "        \"content\": \"Describe a person's 5 personality traits\",\n",
    "    },\n",
    "    {\n",
    "        \"role\": \"assistant\",\n",
    "        \"content\": \"sad\\npeckish\\nenvious\\nsarcastic\\njealous\",\n",
    "    },\n",
    "    {\n",
    "        \"role\": \"user\",\n",
    "        \"content\": \"Describe a person's 5 personality traits with the previous list formatting\",\n",
    "    },\n",
    "    {\n",
    "        \"role\": \"assistant\",\n",
    "        \"content\": \"Happyg go lucky\\ndepressed\\nCold hearted\\nfriendly\\nAntagonistic\",\n",
    "    },\n",
    "    {\n",
    "        \"role\": \"user\",\n",
    "        \"content\": \"Describe a person's 5 personality traits based on expert knowledge with the previous list formatting\",\n",
    "    }\n",
    "], return_tensors='pt')"
   ]
  },
  {
   "cell_type": "code",
   "execution_count": 108,
   "metadata": {},
   "outputs": [],
   "source": [
    "gen_cfg = GenerationConfig.from_pretrained(\"TinyLlama/TinyLlama-1.1B-Chat-v1.0\")\n",
    "gen_cfg.max_length = 256"
   ]
  },
  {
   "cell_type": "code",
   "execution_count": 109,
   "metadata": {},
   "outputs": [
    {
     "data": {
      "text/plain": [
       "\"<|system|>\\nYou are now an expert on personalities. You generate each personalities item seperated by a newline, with no bulleting\\n        </s> \\n<|user|>\\nDescribe a person's 5 personality traits</s> \\n<|assistant|>\\nsad\\npeckish\\nenvious\\nsarcastic\\njealous</s> \\n<|user|>\\nDescribe a person's 5 personality traits with the previous list formatting</s> \\n<|assistant|>\\nHappyg go lucky\\ndepressed\\nCold hearted\\nfriendly\\nAntagonistic</s> \\n<|user|>\\nDescribe a person's 5 personality traits based on expert knowledge with the previous list formatting</s> \\n<|assistant|>\\nHappyg go lucky\\nCold hearted\\nfriendly\\nAntagonistic\\nsad\\npeckish\\nenvious\\nsarcastic\\njealous</s>\""
      ]
     },
     "execution_count": 109,
     "metadata": {},
     "output_type": "execute_result"
    }
   ],
   "source": [
    "llama_tokenizer.decode(llama_causal.generate(input_ids.cuda().long(), generation_config=gen_cfg)[0])"
   ]
  },
  {
   "cell_type": "code",
   "execution_count": null,
   "metadata": {},
   "outputs": [],
   "source": []
  },
  {
   "cell_type": "code",
   "execution_count": null,
   "metadata": {},
   "outputs": [],
   "source": []
  }
 ],
 "metadata": {
  "kernelspec": {
   "display_name": ".venv",
   "language": "python",
   "name": "python3"
  },
  "language_info": {
   "codemirror_mode": {
    "name": "ipython",
    "version": 3
   },
   "file_extension": ".py",
   "mimetype": "text/x-python",
   "name": "python",
   "nbconvert_exporter": "python",
   "pygments_lexer": "ipython3",
   "version": "3.10.11"
  }
 },
 "nbformat": 4,
 "nbformat_minor": 2
}
