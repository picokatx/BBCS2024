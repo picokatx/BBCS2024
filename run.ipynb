{
 "cells": [
  {
   "cell_type": "code",
   "execution_count": 4,
   "metadata": {},
   "outputs": [],
   "source": [
    "import tensorflow as tf"
   ]
  },
  {
   "cell_type": "code",
   "execution_count": 1,
   "metadata": {},
   "outputs": [
    {
     "data": {
      "application/vnd.jupyter.widget-view+json": {
       "model_id": "8cf2a3f87d60432bbd1d38cc59bdee9c",
       "version_major": 2,
       "version_minor": 0
      },
      "text/plain": [
       "model.safetensors:  12%|#1        | 52.4M/440M [00:00<?, ?B/s]"
      ]
     },
     "metadata": {},
     "output_type": "display_data"
    },
    {
     "name": "stderr",
     "output_type": "stream",
     "text": [
      "Some weights of the PyTorch model were not used when initializing the TF 2.0 model TFBertModel: ['cls.seq_relationship.weight', 'cls.predictions.transform.dense.weight', 'cls.predictions.transform.LayerNorm.weight', 'cls.predictions.transform.dense.bias', 'cls.seq_relationship.bias', 'cls.predictions.bias', 'cls.predictions.transform.LayerNorm.bias']\n",
      "- This IS expected if you are initializing TFBertModel from a PyTorch model trained on another task or with another architecture (e.g. initializing a TFBertForSequenceClassification model from a BertForPreTraining model).\n",
      "- This IS NOT expected if you are initializing TFBertModel from a PyTorch model that you expect to be exactly identical (e.g. initializing a TFBertForSequenceClassification model from a BertForSequenceClassification model).\n",
      "All the weights of TFBertModel were initialized from the PyTorch model.\n",
      "If your task is similar to the task the model of the checkpoint was trained on, you can already use TFBertModel for predictions without further training.\n"
     ]
    }
   ],
   "source": [
    "from transformers import TFAutoModel\n",
    "model = TFAutoModel.from_pretrained(\"bert-base-uncased\")"
   ]
  },
  {
   "cell_type": "code",
   "execution_count": 9,
   "metadata": {},
   "outputs": [
    {
     "data": {
      "text/plain": [
       "TFBaseModelOutputWithPoolingAndCrossAttentions(last_hidden_state=<tf.Tensor: shape=(5, 5, 768), dtype=float32, numpy=\n",
       "array([[[-0.1926953 , -0.19953968, -0.24369815, ..., -0.0476762 ,\n",
       "          0.78095937, -0.10719464],\n",
       "        [-0.09016032, -0.1465548 , -0.2265495 , ..., -0.15154383,\n",
       "          0.800614  , -0.17425951],\n",
       "        [-0.09033497, -0.11411548, -0.2296839 , ..., -0.13924852,\n",
       "          0.7794273 , -0.2271377 ],\n",
       "        [-0.11165614, -0.20364816, -0.18446675, ..., -0.10939424,\n",
       "          0.7787872 , -0.2094966 ],\n",
       "        [-0.11141557, -0.20753846, -0.18952729, ..., -0.08506671,\n",
       "          0.74222237, -0.26211852]],\n",
       "\n",
       "       [[-0.26172006, -0.19809552, -0.22027454, ..., -0.03760334,\n",
       "          0.7533313 ,  0.0119855 ],\n",
       "        [-0.16966552, -0.13177472, -0.19482699, ..., -0.12876847,\n",
       "          0.7590233 , -0.06027906],\n",
       "        [-0.17079079, -0.0879863 , -0.19970554, ..., -0.12122375,\n",
       "          0.72431463, -0.08815363],\n",
       "        [-0.17086516, -0.1531767 , -0.15847021, ..., -0.10263245,\n",
       "          0.74901295, -0.06408548],\n",
       "        [-0.16731982, -0.16624315, -0.1627273 , ..., -0.09211256,\n",
       "          0.6996146 , -0.13179931]],\n",
       "\n",
       "       [[-0.3664751 , -0.3286103 , -0.13235193, ...,  0.03904982,\n",
       "          0.747815  ,  0.11221383],\n",
       "        [-0.293664  , -0.28424877, -0.07723288, ..., -0.02726196,\n",
       "          0.76821065,  0.05695482],\n",
       "        [-0.3142913 , -0.26921725, -0.07192339, ..., -0.02248939,\n",
       "          0.739186  ,  0.01891846],\n",
       "        [-0.2999734 , -0.3211034 , -0.04703023, ..., -0.0234833 ,\n",
       "          0.7122437 ,  0.02850815],\n",
       "        [-0.30562168, -0.3221741 , -0.01421075, ..., -0.00612153,\n",
       "          0.70102614, -0.04752969]],\n",
       "\n",
       "       [[-0.18563746, -0.15726425, -0.1674335 , ...,  0.03726161,\n",
       "          0.7561476 ,  0.0399173 ],\n",
       "        [-0.07272018, -0.06281968, -0.10083135, ..., -0.0612859 ,\n",
       "          0.78160334, -0.02198179],\n",
       "        [-0.08598431, -0.01959354, -0.1103936 , ..., -0.03885183,\n",
       "          0.7450823 , -0.05163004],\n",
       "        [-0.10033762, -0.11455102, -0.07087633, ...,  0.00268263,\n",
       "          0.7318654 , -0.07716711],\n",
       "        [-0.09483057, -0.14198518, -0.08555087, ...,  0.02002558,\n",
       "          0.6939697 , -0.12193314]],\n",
       "\n",
       "       [[-0.2439013 , -0.08483736, -0.23389518, ..., -0.05621351,\n",
       "          0.72631365, -0.0493872 ],\n",
       "        [-0.16645432, -0.00831372, -0.1934754 , ..., -0.14989221,\n",
       "          0.7485708 , -0.11735502],\n",
       "        [-0.18770239,  0.01919312, -0.18408582, ..., -0.1296323 ,\n",
       "          0.7154971 , -0.11367993],\n",
       "        [-0.1723932 , -0.03767319, -0.18427104, ..., -0.10451415,\n",
       "          0.711761  , -0.15273568],\n",
       "        [-0.16098082, -0.03276021, -0.14307815, ..., -0.08789937,\n",
       "          0.67099786, -0.17562869]]], dtype=float32)>, pooler_output=<tf.Tensor: shape=(5, 768), dtype=float32, numpy=\n",
       "array([[ 0.234806  , -0.19261263, -0.7862159 , ..., -0.89220035,\n",
       "        -0.3493384 , -0.10108306],\n",
       "       [ 0.27687216, -0.17288893, -0.814857  , ..., -0.8996696 ,\n",
       "        -0.37034988, -0.01294041],\n",
       "       [ 0.35653657, -0.10199828, -0.7964851 , ..., -0.8730847 ,\n",
       "        -0.3018269 , -0.21685359],\n",
       "       [ 0.22949146, -0.1780545 , -0.68469566, ..., -0.8676114 ,\n",
       "        -0.35435542,  0.00925564],\n",
       "       [ 0.21228209, -0.16485445, -0.7418499 , ..., -0.8836072 ,\n",
       "        -0.36233443, -0.01979782]], dtype=float32)>, past_key_values=None, hidden_states=None, attentions=None, cross_attentions=None)"
      ]
     },
     "execution_count": 9,
     "metadata": {},
     "output_type": "execute_result"
    }
   ],
   "source": [
    "model(tf.random.uniform((5,5), maxval=100, dtype=tf.int32))"
   ]
  },
  {
   "cell_type": "code",
   "execution_count": null,
   "metadata": {},
   "outputs": [],
   "source": []
  }
 ],
 "metadata": {
  "kernelspec": {
   "display_name": ".venv",
   "language": "python",
   "name": "python3"
  },
  "language_info": {
   "codemirror_mode": {
    "name": "ipython",
    "version": 3
   },
   "file_extension": ".py",
   "mimetype": "text/x-python",
   "name": "python",
   "nbconvert_exporter": "python",
   "pygments_lexer": "ipython3",
   "version": "3.10.11"
  }
 },
 "nbformat": 4,
 "nbformat_minor": 2
}
